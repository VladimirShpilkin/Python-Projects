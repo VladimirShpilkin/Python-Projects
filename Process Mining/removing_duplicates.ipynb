{
 "cells": [
  {
   "cell_type": "code",
   "execution_count": 213,
   "metadata": {},
   "outputs": [],
   "source": [
    "import os\n",
    "import pandas as pd\n",
    "\n",
    "new_directory = r'C:\\Users\\vladimir.shpilkin\\Desktop\\Learning\\Python-Projects\\process_mining'\n",
    "os.chdir(new_directory)\n",
    "\n",
    "ekko = 'EKKO.csv'\n",
    "ekpo = 'EKPO.csv'\n",
    "cdpos = 'CDPOS.csv'\n",
    "cdhdr = 'CDHDR.csv'\n",
    "\n",
    "ekko_df = pd.read_csv(ekko).reset_index()\n",
    "ekpo_df = pd.read_csv(ekpo).reset_index()\n",
    "cdpos_df = pd.read_csv(cdpos).reset_index()\n",
    "cdhdr_df = pd.read_csv(cdhdr).reset_index()\n",
    "\n",
    "\n",
    "\n",
    "ekpo_ekko_joined = ekpo_df.set_index(['EBELN']).join(\n",
    "    ekko_df.set_index(['EBELN']), how='left', rsuffix='BURKS'\n",
    ").reset_index()\n",
    "\n",
    "cdpos_cdhdr_joined = cdpos_df.set_index(['OBJECTID', 'CHANGENR']).join(\n",
    "    cdhdr_df.set_index(['OBJECTID', 'CHANGENR']), how='left', rsuffix='OBJECTCLAS'\n",
    ").reset_index(drop=False)\n",
    "\n",
    "merged_df = pd.merge(ekpo_ekko_joined, cdpos_cdhdr_joined, left_on='EBELN', right_on='OBJECTID', how='inner')\n",
    "merged_df.to_csv('test.csv')\n",
    "pivot = pd.pivot_table(merged_df, values='NETWR', index=['MANDT','EBELN', 'EBELP', 'UDATE']).reset_index()\n",
    "pivot =pivot.drop('EBELP', axis=1)\n",
    "\n"
   ]
  },
  {
   "cell_type": "code",
   "execution_count": 214,
   "metadata": {},
   "outputs": [
    {
     "data": {
      "text/plain": [
       "Index(['MANDT', 'EBELN', 'UDATE', 'NETWR'], dtype='object')"
      ]
     },
     "execution_count": 214,
     "metadata": {},
     "output_type": "execute_result"
    }
   ],
   "source": [
    "pivot.columns"
   ]
  },
  {
   "cell_type": "code",
   "execution_count": 224,
   "metadata": {},
   "outputs": [],
   "source": [
    "#user inputs for MANDT and EBELN\n",
    "\n",
    "def user_inputs():\n",
    "    value1 = int(input('MANDT: '))\n",
    "    value2 = int(input('EBELN: '))\n",
    "    return value1, value2\n",
    "\n",
    "# Get user inputs\n",
    "user_input1, user_input2 = user_inputs()\n",
    "\n",
    "# Filter the DataFrame based on user inputs\n",
    "filtered_pivot = pivot[(pivot['MANDT'] == user_input1) & (pivot['EBELN'] == user_input2)].reset_index(drop=True)\n",
    "\n",
    "# Additional filtering and grouping\n",
    "filtered_pivot = filtered_pivot.groupby(['MANDT','EBELN', 'UDATE']).sum().reset_index()\n"
   ]
  },
  {
   "cell_type": "code",
   "execution_count": 226,
   "metadata": {},
   "outputs": [
    {
     "data": {
      "text/html": [
       "<div>\n",
       "<style scoped>\n",
       "    .dataframe tbody tr th:only-of-type {\n",
       "        vertical-align: middle;\n",
       "    }\n",
       "\n",
       "    .dataframe tbody tr th {\n",
       "        vertical-align: top;\n",
       "    }\n",
       "\n",
       "    .dataframe thead th {\n",
       "        text-align: right;\n",
       "    }\n",
       "</style>\n",
       "<table border=\"1\" class=\"dataframe\">\n",
       "  <thead>\n",
       "    <tr style=\"text-align: right;\">\n",
       "      <th></th>\n",
       "      <th>MANDT</th>\n",
       "      <th>EBELN</th>\n",
       "      <th>UDATE</th>\n",
       "      <th>NETWR</th>\n",
       "    </tr>\n",
       "  </thead>\n",
       "  <tbody>\n",
       "    <tr>\n",
       "      <th>0</th>\n",
       "      <td>10</td>\n",
       "      <td>71154204</td>\n",
       "      <td>2018-02-23T00:00:00</td>\n",
       "      <td>65839.52</td>\n",
       "    </tr>\n",
       "    <tr>\n",
       "      <th>1</th>\n",
       "      <td>10</td>\n",
       "      <td>71154204</td>\n",
       "      <td>2019-04-02T00:00:00</td>\n",
       "      <td>65839.52</td>\n",
       "    </tr>\n",
       "    <tr>\n",
       "      <th>2</th>\n",
       "      <td>10</td>\n",
       "      <td>71154204</td>\n",
       "      <td>2019-11-22T00:00:00</td>\n",
       "      <td>65839.52</td>\n",
       "    </tr>\n",
       "  </tbody>\n",
       "</table>\n",
       "</div>"
      ],
      "text/plain": [
       "   MANDT     EBELN                UDATE     NETWR\n",
       "0     10  71154204  2018-02-23T00:00:00  65839.52\n",
       "1     10  71154204  2019-04-02T00:00:00  65839.52\n",
       "2     10  71154204  2019-11-22T00:00:00  65839.52"
      ]
     },
     "execution_count": 226,
     "metadata": {},
     "output_type": "execute_result"
    }
   ],
   "source": [
    "filtered_pivot"
   ]
  }
 ],
 "metadata": {
  "kernelspec": {
   "display_name": "Python 3",
   "language": "python",
   "name": "python3"
  },
  "language_info": {
   "codemirror_mode": {
    "name": "ipython",
    "version": 3
   },
   "file_extension": ".py",
   "mimetype": "text/x-python",
   "name": "python",
   "nbconvert_exporter": "python",
   "pygments_lexer": "ipython3",
   "version": "3.12.0"
  }
 },
 "nbformat": 4,
 "nbformat_minor": 2
}
