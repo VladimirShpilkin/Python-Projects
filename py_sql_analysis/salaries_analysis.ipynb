{
 "cells": [
  {
   "cell_type": "code",
   "execution_count": 9,
   "metadata": {},
   "outputs": [
    {
     "name": "stdout",
     "output_type": "stream",
     "text": [
      "New directory is c:\\Users\\vladimir.shpilkin\\Desktop\\Learning\\Python-Projects\\py_sql_analysis\n"
     ]
    }
   ],
   "source": [
    "import os\n",
    "\n",
    "# Change the current working directory to the specified path\n",
    "new_directory = r'C:\\Users\\vladimir.shpilkin\\Desktop\\Learning\\Python-Projects\\py_sql_analysis'\n",
    "os.chdir(new_directory)\n",
    "\n",
    "# Print the new current working directory\n",
    "print('New directory is', os.getcwd())\n",
    "\n",
    "# Import necessary libraries\n",
    "import sqlite3\n",
    "import pandas as pd\n",
    "\n",
    "# Read the CSV file located in the new directory\n",
    "bank_data = 'Employee_Salary_Dataset.csv'\n",
    "bank_data_df = pd.read_csv(bank_data)\n",
    "\n",
    "# Establish a connection to the SQLite database\n",
    "connection_employee_salary = sqlite3.connect('Employee_Salary_Dataset.db')\n",
    "\n",
    "# Write the DataFrame to the SQLite database\n",
    "employee_salary = bank_data_df.to_sql('Employee_Salary_Dataset', connection_employee_salary, if_exists='replace', index=False)\n",
    "\n",
    "# Create a cursor for the database\n",
    "cursor = connection_employee_salary.cursor()\n"
   ]
  },
  {
   "cell_type": "code",
   "execution_count": 10,
   "metadata": {},
   "outputs": [
    {
     "name": "stdout",
     "output_type": "stream",
     "text": [
      "2063626.5\n"
     ]
    }
   ],
   "source": [
    "#find the average salary for male workers\n",
    "results_male = cursor.execute('SELECT \"Age\", ROUND(AVG(\"Salary\"), 1) AS \"Avg_Male_Salary\" FROM \"Employee_Salary_Dataset\" WHERE \"Gender\" = \"Male\"')\n",
    "avg_male_salary = results_male.fetchone()[1]\n",
    "print(avg_male_salary)"
   ]
  },
  {
   "cell_type": "code",
   "execution_count": 11,
   "metadata": {},
   "outputs": [
    {
     "name": "stdout",
     "output_type": "stream",
     "text": [
      "2054916.7\n"
     ]
    }
   ],
   "source": [
    "#find the average salary for female workers\n",
    "results_female = cursor.execute('SELECT \"Age\", ROUND(AVG(\"Salary\"), 1) AS \"Avg_Male_Salary\" FROM \"Employee_Salary_Dataset\" WHERE \"Gender\" = \"Female\"')\n",
    "avg_female_salary = results_male.fetchone()[1]\n",
    "print(avg_female_salary)"
   ]
  },
  {
   "cell_type": "code",
   "execution_count": 12,
   "metadata": {},
   "outputs": [
    {
     "data": {
      "text/plain": [
       "8709.8"
      ]
     },
     "execution_count": 12,
     "metadata": {},
     "output_type": "execute_result"
    }
   ],
   "source": [
    "#find the difference\n",
    "round(avg_male_salary-avg_female_salary,2)"
   ]
  },
  {
   "cell_type": "code",
   "execution_count": 13,
   "metadata": {},
   "outputs": [],
   "source": [
    "#find the average salary per age group and gender\n",
    "age_bins=cursor.execute('''\n",
    "                            SELECT CASE WHEN \"Age\" BETWEEN 18 and 24 then \"18-24\"\n",
    "                            WHEN \"Age\" BETWEEN 25 and 34 then \"25-34\"\n",
    "                            WHEN \"Age\" BETWEEN 35 and 44 then \"35-44\"\n",
    "                            WHEN \"Age\" BETWEEN 45 and 54 then \"45-54\"\n",
    "                            WHEN \"Age\" BETWEEN 55 and 65 then \"55-65\"\n",
    "                            WHEN \"Age\" <18 then \"underage\"\n",
    "                            WHEN \"Age\" >65 then \"retirement\"\n",
    "                            END AS age_bin, round(avg(\"Salary\"),1), \"Gender\",\n",
    "                            case when Gender='Male' then count(ID) else 0 END AS male_count,\n",
    "                            case when Gender='Female' then COUNT(ID) else 0 end as female_count,\n",
    "                            round(avg(Experience_Years))\n",
    "                            from Employee_Salary_Dataset\n",
    "                            GROUP BY age_bin, \"Gender\"\n",
    "                            '''\n",
    "                            )"
   ]
  },
  {
   "cell_type": "code",
   "execution_count": 14,
   "metadata": {},
   "outputs": [
    {
     "data": {
      "text/plain": [
       "[('18-24', 36666.7, 'Female', 0, 6, 3.0),\n",
       " ('18-24', 20100.0, 'Male', 5, 0, 2.0),\n",
       " ('25-34', 379250.0, 'Female', 0, 4, 6.0),\n",
       " ('25-34', 2087500.0, 'Male', 4, 0, 6.0),\n",
       " ('35-44', 61500.0, 'Female', 0, 1, 10.0),\n",
       " ('35-44', 2183383.3, 'Male', 3, 0, 12.0),\n",
       " ('45-54', 4730000.0, 'Female', 0, 5, 17.0),\n",
       " ('45-54', 5023333.3, 'Male', 3, 0, 15.0),\n",
       " ('55-65', 5770000.0, 'Female', 0, 2, 24.0),\n",
       " ('55-65', 5001000.0, 'Male', 1, 0, 25.0),\n",
       " ('underage', 10000.0, 'Male', 1, 0, 1.0)]"
      ]
     },
     "execution_count": 14,
     "metadata": {},
     "output_type": "execute_result"
    }
   ],
   "source": [
    "#display the avg. salary per gender and age bin\n",
    "age_bins.fetchall()"
   ]
  },
  {
   "cell_type": "code",
   "execution_count": 15,
   "metadata": {},
   "outputs": [],
   "source": [
    "#increase the salary for all males in the age group between 18 and 24\n",
    "salary_update=cursor.execute('''\n",
    "                            UPDATE Employee_Salary_Dataset\n",
    "                            SET Salary=\n",
    "                            CASE WHEN Gender='Male'\n",
    "                            and Age>=18 and Age<=24 then salary +3000\n",
    "                            when Gender='Female'\n",
    "                            and Age>=25 and Age<=34 then salary +5000\n",
    "                            end\n",
    "                            ''')\n",
    "salary_update.fetchall()\n",
    "connection_employee_salary.commit()\n"
   ]
  },
  {
   "cell_type": "code",
   "execution_count": 24,
   "metadata": {},
   "outputs": [
    {
     "data": {
      "text/plain": [
       "[(1, 5, 28, 'Female', 255000),\n",
       " (2, 1, 21, 'Male', 53000),\n",
       " (4, 2, 22, 'Male', 28000),\n",
       " (11, 4, 26, 'Female', 255000),\n",
       " (15, 2, 23, 'Male', 10500),\n",
       " (16, 4, 27, 'Female', 92000),\n",
       " (17, 10, 34, 'Female', 935000),\n",
       " (19, 2, 21, 'Male', 18000),\n",
       " (27, 1, 18, 'Male', 6000)]"
      ]
     },
     "execution_count": 24,
     "metadata": {},
     "output_type": "execute_result"
    }
   ],
   "source": [
    "check = cursor.execute('''\n",
    "    SELECT *\n",
    "    FROM Employee_Salary_Dataset\n",
    "    WHERE (Age >= 18 AND Age <= 24 AND Gender = 'Male')\n",
    "       OR (Age >= 25 AND Age <= 34 AND Gender = 'Female')\n",
    "''')\n",
    "cursor.fetchall()"
   ]
  }
 ],
 "metadata": {
  "kernelspec": {
   "display_name": "Python 3",
   "language": "python",
   "name": "python3"
  },
  "language_info": {
   "codemirror_mode": {
    "name": "ipython",
    "version": 3
   },
   "file_extension": ".py",
   "mimetype": "text/x-python",
   "name": "python",
   "nbconvert_exporter": "python",
   "pygments_lexer": "ipython3",
   "version": "3.12.0"
  }
 },
 "nbformat": 4,
 "nbformat_minor": 2
}
