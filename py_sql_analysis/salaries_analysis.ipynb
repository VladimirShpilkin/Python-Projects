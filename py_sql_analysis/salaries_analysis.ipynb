{
 "cells": [
  {
   "cell_type": "code",
   "execution_count": 1,
   "metadata": {},
   "outputs": [
    {
     "name": "stdout",
     "output_type": "stream",
     "text": [
      "New directory is c:\\Users\\vladimir.shpilkin\\Desktop\\Learning\\Python-Projects\\py_sql_analysis\n"
     ]
    }
   ],
   "source": [
    "import os\n",
    "\n",
    "# Change the current working directory to the specified path\n",
    "new_directory = r'C:\\Users\\vladimir.shpilkin\\Desktop\\Learning\\Python-Projects\\py_sql_analysis'\n",
    "os.chdir(new_directory)\n",
    "\n",
    "# Print the new current working directory\n",
    "print('New directory is', os.getcwd())\n",
    "\n",
    "# Import necessary libraries\n",
    "import sqlite3\n",
    "import pandas as pd\n",
    "\n",
    "# Read the CSV file located in the new directory\n",
    "bank_data = 'Employee_Salary_Dataset.csv'\n",
    "bank_data_df = pd.read_csv(bank_data)\n",
    "\n",
    "# Establish a connection to the SQLite database\n",
    "connection_employee_salary = sqlite3.connect('Employee_Salary_Dataset.db')\n",
    "\n",
    "# Write the DataFrame to the SQLite database\n",
    "employee_salary = bank_data_df.to_sql('Employee_Salary_Dataset', connection_employee_salary, if_exists='replace', index=False)\n",
    "\n",
    "# Create a cursor for the database\n",
    "cursor = connection_employee_salary.cursor()\n"
   ]
  },
  {
   "cell_type": "code",
   "execution_count": 29,
   "metadata": {},
   "outputs": [
    {
     "name": "stdout",
     "output_type": "stream",
     "text": [
      "2063626.5\n"
     ]
    }
   ],
   "source": [
    "results_male = cursor.execute('SELECT \"Age\", ROUND(AVG(\"Salary\"), 1) AS \"Avg_Male_Salary\" FROM \"Employee_Salary_Dataset\" WHERE \"Gender\" = \"Male\"')\n",
    "avg_male_salary = results_male.fetchone()[1]\n",
    "print(avg_male_salary)"
   ]
  },
  {
   "cell_type": "code",
   "execution_count": 30,
   "metadata": {},
   "outputs": [
    {
     "name": "stdout",
     "output_type": "stream",
     "text": [
      "2054916.7\n"
     ]
    }
   ],
   "source": [
    "results_female = cursor.execute('SELECT \"Age\", ROUND(AVG(\"Salary\"), 1) AS \"Avg_Male_Salary\" FROM \"Employee_Salary_Dataset\" WHERE \"Gender\" = \"Female\"')\n",
    "avg_female_salary = results_male.fetchone()[1]\n",
    "print(avg_female_salary)"
   ]
  },
  {
   "cell_type": "code",
   "execution_count": 32,
   "metadata": {},
   "outputs": [
    {
     "data": {
      "text/plain": [
       "8709.8"
      ]
     },
     "execution_count": 32,
     "metadata": {},
     "output_type": "execute_result"
    }
   ],
   "source": [
    "round(avg_male_salary-avg_female_salary,2)"
   ]
  }
 ],
 "metadata": {
  "kernelspec": {
   "display_name": "Python 3",
   "language": "python",
   "name": "python3"
  },
  "language_info": {
   "codemirror_mode": {
    "name": "ipython",
    "version": 3
   },
   "file_extension": ".py",
   "mimetype": "text/x-python",
   "name": "python",
   "nbconvert_exporter": "python",
   "pygments_lexer": "ipython3",
   "version": "3.12.0"
  }
 },
 "nbformat": 4,
 "nbformat_minor": 2
}
