{
 "cells": [
  {
   "cell_type": "code",
   "execution_count": 163,
   "metadata": {},
   "outputs": [
    {
     "name": "stdout",
     "output_type": "stream",
     "text": [
      "New directory is C:\\Users\\vladimir.shpilkin\\Desktop\\Learning\\Python-Projects\\py_sql_analysis\n"
     ]
    }
   ],
   "source": [
    "import os\n",
    "\n",
    "# Change the current working directory to the specified path\n",
    "new_directory = r'C:\\Users\\vladimir.shpilkin\\Desktop\\Learning\\Python-Projects\\py_sql_analysis'\n",
    "os.chdir(new_directory)\n",
    "\n",
    "# Print the new current working directory\n",
    "print('New directory is', os.getcwd())\n",
    "\n",
    "# Import necessary libraries\n",
    "import sqlite3\n",
    "import pandas as pd\n",
    "\n",
    "# Read the CSV file located in the new directory\n",
    "bank_data = 'Employee_Salary_Dataset.csv'\n",
    "bank_data_df = pd.read_csv(bank_data)\n",
    "\n",
    "# Establish a connection to the SQLite database\n",
    "connection_employee_salary = sqlite3.connect('Employee_Salary_Dataset.db')\n",
    "\n",
    "# Write the DataFrame to the SQLite database\n",
    "employee_salary = bank_data_df.to_sql('Employee_Salary_Dataset', connection_employee_salary, if_exists='replace', index=False)\n",
    "\n",
    "# Create a cursor for the database\n",
    "cursor = connection_employee_salary.cursor()\n"
   ]
  },
  {
   "cell_type": "code",
   "execution_count": 167,
   "metadata": {},
   "outputs": [
    {
     "name": "stdout",
     "output_type": "stream",
     "text": [
      "(28, 2059147.1)\n"
     ]
    }
   ],
   "source": [
    "results=cursor.execute('select \"Age\",round(avg(\"Salary\"),1) from \"Employee_Salary_Dataset\"')\n",
    "\n",
    "for x in results:\n",
    "    print(x)"
   ]
  }
 ],
 "metadata": {
  "kernelspec": {
   "display_name": "Python 3",
   "language": "python",
   "name": "python3"
  },
  "language_info": {
   "codemirror_mode": {
    "name": "ipython",
    "version": 3
   },
   "file_extension": ".py",
   "mimetype": "text/x-python",
   "name": "python",
   "nbconvert_exporter": "python",
   "pygments_lexer": "ipython3",
   "version": "3.12.0"
  }
 },
 "nbformat": 4,
 "nbformat_minor": 2
}
