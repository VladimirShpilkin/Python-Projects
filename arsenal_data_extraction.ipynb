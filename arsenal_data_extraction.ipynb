{
 "cells": [
  {
   "cell_type": "code",
   "execution_count": 1,
   "metadata": {},
   "outputs": [],
   "source": [
    "import re #to allow working with regular expressions\n",
    "import requests #to allow to make http requests\n",
    "import pandas as pd\n",
    "\n",
    "from bs4 import BeautifulSoup #to parse and extract from HTML to XML"
   ]
  },
  {
   "cell_type": "code",
   "execution_count": 2,
   "metadata": {},
   "outputs": [],
   "source": [
    "#headers is the info browser is sending\n",
    "#transfermarkt requires this info\n",
    "headers={\n",
    "    \"User-Agent\":\"https://explore.whatismybrowser.com/useragents/parse/?analyse-my-user-agent=yes#parse-useragent\"\n",
    "}\n",
    "\n",
    "page='https://www.transfermarkt.com/fc-arsenal/startseite/verein/11'\n",
    "pageTree=requests.get(page,headers=headers)\n",
    "pageSoup=BeautifulSoup(pageTree.content,'html.parser') #get the html code of the page"
   ]
  },
  {
   "cell_type": "code",
   "execution_count": 3,
   "metadata": {},
   "outputs": [],
   "source": [
    "#creating the empty lists to parse the information to\n",
    "PlayersList=[]\n",
    "AgeList=[]\n",
    "PositionsList=[]\n",
    "NationList=[]\n",
    "ValuesList=[]\n",
    "BirthDateList=[]\n"
   ]
  },
  {
   "cell_type": "code",
   "execution_count": 4,
   "metadata": {},
   "outputs": [],
   "source": [
    "Players = pageSoup.find_all(\"img\", {\"class\": \"bilderrahmen-fixed lazy lazy\"})\n",
    "\n",
    "Age = pageSoup.find_all(\"td\", {\"class\": \"zentriert\"})\n",
    "\n",
    "Positions = pageSoup.find_all(\"td\", {\"class\": [\n",
    "    \"zentriert rueckennummer bg_Torwart\",\n",
    "    \"zentriert rueckennummer bg_Abwehr\",\n",
    "    \"zentriert rueckennummer bg_Mittelfeld\",\n",
    "    \"zentriert rueckennummer bg_Sturm\"\n",
    "]})\n",
    "\n",
    "Nationality = pageSoup.find_all(\"td\", {\"class\": \"zentriert\"})\n",
    "\n",
    "Values = pageSoup.find_all(\"td\", {\"class\": \"rechts hauptlink\"})\n"
   ]
  },
  {
   "cell_type": "code",
   "execution_count": 5,
   "metadata": {},
   "outputs": [],
   "source": [
    "for i in range(0, len(Players)):\n",
    "    PlayersList.append(str(Players[i]).split('\" class=', 1)[0].split('<img alt=\"', 1)[1])\n",
    "\n",
    "for i in range(1, (len(Players)*3), 3):\n",
    "    AgeList.append(str(Age[i]).split(\"(\", 1)[1].split(\")\", 1)[0])\n",
    "\n",
    "for i in range(0, len(Positions)):\n",
    "    PositionsList.append(str(Positions[i]).split('title=\"', 1)[1].split('\">', 1)[0])\n",
    "\n",
    "for i in range(2, (len(Players)*3), 3):\n",
    "    NationList.append(str(Nationality[i]).split('title=\"', 1)[1].split('\"', 1)[0])\n",
    "\n",
    "for i in range(0, len(Values)):\n",
    "    ValuesList.append(Values[i].text)\n"
   ]
  },
  {
   "cell_type": "code",
   "execution_count": 8,
   "metadata": {},
   "outputs": [],
   "source": [
    "club_data_df_2024=pd.DataFrame({\"Player\":PlayersList,\n",
    "                          \"Age\":AgeList,\n",
    "                          \"Position\":PositionsList,\n",
    "                          \"Nation\":NationList,\n",
    "                        \"Value\":ValuesList})"
   ]
  }
 ],
 "metadata": {
  "kernelspec": {
   "display_name": "Python 3",
   "language": "python",
   "name": "python3"
  },
  "language_info": {
   "codemirror_mode": {
    "name": "ipython",
    "version": 3
   },
   "file_extension": ".py",
   "mimetype": "text/x-python",
   "name": "python",
   "nbconvert_exporter": "python",
   "pygments_lexer": "ipython3",
   "version": "3.12.0"
  }
 },
 "nbformat": 4,
 "nbformat_minor": 2
}
